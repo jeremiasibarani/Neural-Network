{
 "cells": [
  {
   "cell_type": "markdown",
   "id": "edadc5c0",
   "metadata": {},
   "source": [
    "### Horse or Human Image Classification with CNN\n",
    "\n",
    "#### Dataset source\n",
    "- Training data : \"https://storage.googleapis.com/laurencemoroney-blog.appspot.com/horse-or-human.zip\"\n",
    "- Validation data : \"https://storage.googleapis.com/laurencemoroney-blog.appspot.com/validation-horse-or-human.zip\"\n",
    "\n",
    "#### Dataset specifications :\n",
    "- Size (px) : 300 x 300 x 3\n",
    "- Number of images (Training data) : 1027\n",
    "- Number of images (Validation data) : 256\n",
    "\n",
    "#### Interpretation :\n",
    "- Our goal here is to classify whether an image is a human or a horse image and thus is binary classification. Sigmoid activation function is one of the activation functions that suits this and since ImageDataGenerator orders the output label in alphabetical order, we say if the value is closer to 0 then it is a horse's and a human's otherwise\n",
    "- We make this classification under the assumption : if the predicted value is less than or equal 0.5 then it is a horse's and a human's otherwhise"
   ]
  },
  {
   "cell_type": "code",
   "execution_count": 1,
   "id": "7702f2b2",
   "metadata": {},
   "outputs": [],
   "source": [
    "from tensorflow.keras.layers import MaxPooling2D, Conv2D, Flatten, Dense, Dropout\n",
    "from tensorflow.keras.models import Sequential\n",
    "from tensorflow.keras.preprocessing.image import ImageDataGenerator\n",
    "from matplotlib import pyplot as plt\n",
    "from tensorflow.keras import utils\n",
    "from tensorflow.keras.optimizers import RMSprop\n",
    "import numpy as np\n",
    "import tensorflow as tf"
   ]
  },
  {
   "cell_type": "code",
   "execution_count": 2,
   "id": "92890415",
   "metadata": {},
   "outputs": [],
   "source": [
    "training_dir = 'horse-or-human\\\\training'\n",
    "validation_dir = 'horse-or-human\\\\validation'"
   ]
  },
  {
   "cell_type": "markdown",
   "id": "09b34f01",
   "metadata": {},
   "source": [
    "![Directory Structure](./src/img/dir_struct.png)"
   ]
  },
  {
   "cell_type": "code",
   "execution_count": 3,
   "id": "a6a8c8f3",
   "metadata": {},
   "outputs": [],
   "source": [
    "train_datagen = ImageDataGenerator(\n",
    " rescale=1./255,\n",
    " rotation_range=40,\n",
    " width_shift_range=0.2,\n",
    " height_shift_range=0.2,\n",
    " shear_range=0.2,\n",
    " zoom_range=0.2,\n",
    " horizontal_flip=True,\n",
    " fill_mode='nearest'\n",
    ")\n"
   ]
  },
  {
   "cell_type": "code",
   "execution_count": 4,
   "id": "f8c5120f",
   "metadata": {},
   "outputs": [
    {
     "name": "stdout",
     "output_type": "stream",
     "text": [
      "Found 256 images belonging to 2 classes.\n"
     ]
    }
   ],
   "source": [
    "validation_generator = train_datagen.flow_from_directory(\n",
    "        validation_dir,\n",
    "        target_size=(300, 300),\n",
    "        class_mode='binary')"
   ]
  },
  {
   "cell_type": "code",
   "execution_count": 5,
   "id": "2b91367c",
   "metadata": {},
   "outputs": [
    {
     "name": "stdout",
     "output_type": "stream",
     "text": [
      "Found 1027 images belonging to 2 classes.\n"
     ]
    }
   ],
   "source": [
    "train_generator = train_datagen.flow_from_directory(\n",
    "        training_dir,\n",
    "        target_size=(300, 300),\n",
    "        class_mode='binary')"
   ]
  },
  {
   "cell_type": "code",
   "execution_count": 8,
   "id": "ecd693ef",
   "metadata": {},
   "outputs": [
    {
     "data": {
      "text/plain": [
       "{'horses': 0, 'humans': 1}"
      ]
     },
     "execution_count": 8,
     "metadata": {},
     "output_type": "execute_result"
    }
   ],
   "source": [
    "train_generator.class_indices"
   ]
  },
  {
   "cell_type": "code",
   "execution_count": 79,
   "id": "24deab57",
   "metadata": {},
   "outputs": [],
   "source": [
    "model = Sequential([\n",
    "    Conv2D(16, (3, 3), activation='relu', input_shape=(300, 300, 3)),\n",
    "    MaxPooling2D(2, 2),\n",
    "    Conv2D(32, (3,3), activation='relu'),\n",
    "    MaxPooling2D(2,2),\n",
    "    Conv2D(64, (3,3), activation='relu'),\n",
    "    MaxPooling2D(2,2),\n",
    "    Conv2D(64, (3,3), activation='relu'),\n",
    "    MaxPooling2D(2,2),\n",
    "    Conv2D(64, (3,3), activation='relu'),\n",
    "    MaxPooling2D(2,2),\n",
    "    Flatten(),\n",
    "    Dense(512, activation='relu'),\n",
    "    Dense(1, activation='sigmoid')\n",
    "])"
   ]
  },
  {
   "cell_type": "code",
   "execution_count": 80,
   "id": "1b21feaa",
   "metadata": {},
   "outputs": [
    {
     "name": "stdout",
     "output_type": "stream",
     "text": [
      "Model: \"sequential_1\"\n",
      "_________________________________________________________________\n",
      " Layer (type)                Output Shape              Param #   \n",
      "=================================================================\n",
      " conv2d_15 (Conv2D)          (None, 298, 298, 16)      448       \n",
      "                                                                 \n",
      " max_pooling2d_15 (MaxPoolin  (None, 149, 149, 16)     0         \n",
      " g2D)                                                            \n",
      "                                                                 \n",
      " conv2d_16 (Conv2D)          (None, 147, 147, 32)      4640      \n",
      "                                                                 \n",
      " max_pooling2d_16 (MaxPoolin  (None, 73, 73, 32)       0         \n",
      " g2D)                                                            \n",
      "                                                                 \n",
      " conv2d_17 (Conv2D)          (None, 71, 71, 64)        18496     \n",
      "                                                                 \n",
      " max_pooling2d_17 (MaxPoolin  (None, 35, 35, 64)       0         \n",
      " g2D)                                                            \n",
      "                                                                 \n",
      " conv2d_18 (Conv2D)          (None, 33, 33, 64)        36928     \n",
      "                                                                 \n",
      " max_pooling2d_18 (MaxPoolin  (None, 16, 16, 64)       0         \n",
      " g2D)                                                            \n",
      "                                                                 \n",
      " conv2d_19 (Conv2D)          (None, 14, 14, 64)        36928     \n",
      "                                                                 \n",
      " max_pooling2d_19 (MaxPoolin  (None, 7, 7, 64)         0         \n",
      " g2D)                                                            \n",
      "                                                                 \n",
      " flatten_3 (Flatten)         (None, 3136)              0         \n",
      "                                                                 \n",
      " dense_4 (Dense)             (None, 512)               1606144   \n",
      "                                                                 \n",
      " dense_5 (Dense)             (None, 1)                 513       \n",
      "                                                                 \n",
      "=================================================================\n",
      "Total params: 1,704,097\n",
      "Trainable params: 1,704,097\n",
      "Non-trainable params: 0\n",
      "_________________________________________________________________\n"
     ]
    }
   ],
   "source": [
    "model.summary()"
   ]
  },
  {
   "cell_type": "code",
   "execution_count": 81,
   "id": "908361a9",
   "metadata": {},
   "outputs": [],
   "source": [
    "model.compile(loss='binary_crossentropy',\n",
    "              optimizer=RMSprop(lr=0.001),\n",
    "              metrics=['accuracy'])"
   ]
  },
  {
   "cell_type": "code",
   "execution_count": 82,
   "id": "74c4faf3",
   "metadata": {},
   "outputs": [
    {
     "name": "stderr",
     "output_type": "stream",
     "text": [
      "C:\\Users\\user\\AppData\\Local\\Temp\\ipykernel_16168\\1614825642.py:1: UserWarning: `Model.fit_generator` is deprecated and will be removed in a future version. Please use `Model.fit`, which supports generators.\n",
      "  history = model.fit_generator(\n"
     ]
    },
    {
     "name": "stdout",
     "output_type": "stream",
     "text": [
      "Epoch 1/15\n",
      "33/33 [==============================] - 74s 2s/step - loss: 0.7665 - accuracy: 0.5648 - val_loss: 0.6859 - val_accuracy: 0.5000\n",
      "Epoch 2/15\n",
      "33/33 [==============================] - 72s 2s/step - loss: 0.6514 - accuracy: 0.6426 - val_loss: 0.6133 - val_accuracy: 0.6445\n",
      "Epoch 3/15\n",
      "33/33 [==============================] - 92s 3s/step - loss: 0.5567 - accuracy: 0.7556 - val_loss: 0.8769 - val_accuracy: 0.5430\n",
      "Epoch 4/15\n",
      "33/33 [==============================] - 86s 3s/step - loss: 0.5020 - accuracy: 0.7809 - val_loss: 0.7325 - val_accuracy: 0.6797\n",
      "Epoch 5/15\n",
      "33/33 [==============================] - 88s 3s/step - loss: 0.4340 - accuracy: 0.8140 - val_loss: 1.3590 - val_accuracy: 0.6953\n",
      "Epoch 6/15\n",
      "33/33 [==============================] - 81s 2s/step - loss: 0.3870 - accuracy: 0.8559 - val_loss: 0.7823 - val_accuracy: 0.6523\n",
      "Epoch 7/15\n",
      "33/33 [==============================] - 79s 2s/step - loss: 0.2923 - accuracy: 0.8783 - val_loss: 0.5720 - val_accuracy: 0.8008\n",
      "Epoch 8/15\n",
      "33/33 [==============================] - 77s 2s/step - loss: 0.3080 - accuracy: 0.8763 - val_loss: 0.9524 - val_accuracy: 0.6523\n",
      "Epoch 9/15\n",
      "33/33 [==============================] - 79s 2s/step - loss: 0.2165 - accuracy: 0.9104 - val_loss: 2.2122 - val_accuracy: 0.6953\n",
      "Epoch 10/15\n",
      "33/33 [==============================] - 79s 2s/step - loss: 0.2659 - accuracy: 0.9046 - val_loss: 1.2836 - val_accuracy: 0.7500\n",
      "Epoch 11/15\n",
      "33/33 [==============================] - 78s 2s/step - loss: 0.1702 - accuracy: 0.9396 - val_loss: 1.3738 - val_accuracy: 0.7227\n",
      "Epoch 12/15\n",
      "33/33 [==============================] - 79s 2s/step - loss: 0.1802 - accuracy: 0.9396 - val_loss: 4.1346 - val_accuracy: 0.6055\n",
      "Epoch 13/15\n",
      "33/33 [==============================] - 81s 2s/step - loss: 0.2329 - accuracy: 0.9211 - val_loss: 1.4619 - val_accuracy: 0.7383\n",
      "Epoch 14/15\n",
      "33/33 [==============================] - 87s 3s/step - loss: 0.1278 - accuracy: 0.9601 - val_loss: 1.2093 - val_accuracy: 0.7070\n",
      "Epoch 15/15\n",
      "33/33 [==============================] - 87s 3s/step - loss: 0.1879 - accuracy: 0.9377 - val_loss: 1.4680 - val_accuracy: 0.7656\n"
     ]
    }
   ],
   "source": [
    "history = model.fit_generator(\n",
    "    train_generator,\n",
    "    epochs=15,\n",
    "    validation_data=validation_generator)"
   ]
  },
  {
   "cell_type": "code",
   "execution_count": 83,
   "id": "bfe22e96",
   "metadata": {},
   "outputs": [
    {
     "data": {
      "text/plain": [
       "<matplotlib.legend.Legend at 0x246043ec070>"
      ]
     },
     "execution_count": 83,
     "metadata": {},
     "output_type": "execute_result"
    },
    {
     "data": {
      "image/png": "[encoded data removed]",
      "text/plain": [
       "<Figure size 1080x576 with 2 Axes>"
      ]
     },
     "metadata": {
      "needs_background": "light"
     },
     "output_type": "display_data"
    }
   ],
   "source": [
    "plt.figure(figsize = (15 , 8))\n",
    "plt.subplot(1, 2, 1)\n",
    "plt.plot(history.history['accuracy'])\n",
    "plt.title(\"Accuracy each epoch\")\n",
    "plt.xlabel(\"Epochs\")\n",
    "plt.ylabel(\"Accuracy\")\n",
    "plt.legend([\"Train\"], loc=\"upper left\")\n",
    "\n",
    "plt.subplot(2, 2, 2)\n",
    "plt.plot(history.history['loss'])\n",
    "plt.title(\"Loss each epoch\")\n",
    "plt.xlabel(\"Epochs\")\n",
    "plt.ylabel(\"Loss\")\n",
    "plt.legend([\"Train\"], loc=\"upper left\")"
   ]
  },
  {
   "cell_type": "code",
   "execution_count": 84,
   "id": "df601f32",
   "metadata": {},
   "outputs": [],
   "source": [
    "model.save('tf.model\\\\no_dropout\\\\my_model.h5')"
   ]
  },
  {
   "cell_type": "code",
   "execution_count": 89,
   "id": "a70f6eac",
   "metadata": {},
   "outputs": [
    {
     "name": "stdout",
     "output_type": "stream",
     "text": [
      "1/1 [==============================] - 0s 38ms/step\n",
      "1/1 [==============================] - 0s 51ms/step\n",
      "1/1 [==============================] - 0s 135ms/step\n",
      "1/1 [==============================] - 0s 37ms/step\n",
      "1/1 [==============================] - 0s 38ms/step\n",
      "1/1 [==============================] - 0s 48ms/step\n",
      "1/1 [==============================] - 0s 42ms/step\n",
      "1/1 [==============================] - 0s 200ms/step\n",
      "1/1 [==============================] - 0s 40ms/step\n",
      "1/1 [==============================] - 0s 52ms/step\n",
      "1/1 [==============================] - 0s 46ms/step\n",
      "1/1 [==============================] - 0s 46ms/step\n",
      "1/1 [==============================] - 0s 72ms/step\n",
      "1/1 [==============================] - 0s 59ms/step\n",
      "1/1 [==============================] - 0s 46ms/step\n",
      "1/1 [==============================] - 0s 38ms/step\n",
      "1/1 [==============================] - 0s 40ms/step\n",
      "1/1 [==============================] - 0s 52ms/step\n",
      "1/1 [==============================] - 0s 101ms/step\n",
      "1/1 [==============================] - 0s 92ms/step\n"
     ]
    }
   ],
   "source": [
    "correct = 0\n",
    "for key, val in test.items():\n",
    "    if val == predict(key, model):\n",
    "        correct += 1"
   ]
  },
  {
   "cell_type": "code",
   "execution_count": 86,
   "id": "a0b48955",
   "metadata": {},
   "outputs": [
    {
     "name": "stdout",
     "output_type": "stream",
     "text": [
      "correct : 11 out of 20\n"
     ]
    }
   ],
   "source": [
    "print(f\"correct : {correct} out of {len(test.keys())}\")"
   ]
  },
  {
   "cell_type": "markdown",
   "id": "c37150a1",
   "metadata": {},
   "source": [
    "### Applying dropout reguralization with 20% percentage"
   ]
  },
  {
   "cell_type": "code",
   "execution_count": 90,
   "id": "81101063",
   "metadata": {},
   "outputs": [],
   "source": [
    "model_dropout = Sequential([\n",
    "    Conv2D(16, (3, 3), activation='relu', input_shape=(300, 300, 3)),\n",
    "    MaxPooling2D(2, 2),\n",
    "    Conv2D(32, (3,3), activation='relu'),\n",
    "    MaxPooling2D(2,2),\n",
    "    Conv2D(64, (3,3), activation='relu'),\n",
    "    MaxPooling2D(2,2),\n",
    "    Conv2D(64, (3,3), activation='relu'),\n",
    "    MaxPooling2D(2,2),\n",
    "    Conv2D(64, (3,3), activation='relu'),\n",
    "    MaxPooling2D(2,2),\n",
    "    Flatten(),\n",
    "    Dense(512, activation='relu'),\n",
    "    Dropout(0.2),\n",
    "    Dense(1, activation='sigmoid')\n",
    "])"
   ]
  },
  {
   "cell_type": "code",
   "execution_count": 91,
   "id": "487307cd",
   "metadata": {},
   "outputs": [
    {
     "name": "stdout",
     "output_type": "stream",
     "text": [
      "Model: \"sequential_2\"\n",
      "_________________________________________________________________\n",
      " Layer (type)                Output Shape              Param #   \n",
      "=================================================================\n",
      " conv2d_20 (Conv2D)          (None, 298, 298, 16)      448       \n",
      "                                                                 \n",
      " max_pooling2d_20 (MaxPoolin  (None, 149, 149, 16)     0         \n",
      " g2D)                                                            \n",
      "                                                                 \n",
      " conv2d_21 (Conv2D)          (None, 147, 147, 32)      4640      \n",
      "                                                                 \n",
      " max_pooling2d_21 (MaxPoolin  (None, 73, 73, 32)       0         \n",
      " g2D)                                                            \n",
      "                                                                 \n",
      " conv2d_22 (Conv2D)          (None, 71, 71, 64)        18496     \n",
      "                                                                 \n",
      " max_pooling2d_22 (MaxPoolin  (None, 35, 35, 64)       0         \n",
      " g2D)                                                            \n",
      "                                                                 \n",
      " conv2d_23 (Conv2D)          (None, 33, 33, 64)        36928     \n",
      "                                                                 \n",
      " max_pooling2d_23 (MaxPoolin  (None, 16, 16, 64)       0         \n",
      " g2D)                                                            \n",
      "                                                                 \n",
      " conv2d_24 (Conv2D)          (None, 14, 14, 64)        36928     \n",
      "                                                                 \n",
      " max_pooling2d_24 (MaxPoolin  (None, 7, 7, 64)         0         \n",
      " g2D)                                                            \n",
      "                                                                 \n",
      " flatten_4 (Flatten)         (None, 3136)              0         \n",
      "                                                                 \n",
      " dense_6 (Dense)             (None, 512)               1606144   \n",
      "                                                                 \n",
      " dropout_1 (Dropout)         (None, 512)               0         \n",
      "                                                                 \n",
      " dense_7 (Dense)             (None, 1)                 513       \n",
      "                                                                 \n",
      "=================================================================\n",
      "Total params: 1,704,097\n",
      "Trainable params: 1,704,097\n",
      "Non-trainable params: 0\n",
      "_________________________________________________________________\n"
     ]
    }
   ],
   "source": [
    "model_dropout.summary()"
   ]
  },
  {
   "cell_type": "code",
   "execution_count": 92,
   "id": "a1a4ca6c",
   "metadata": {},
   "outputs": [],
   "source": [
    "model_dropout.compile(loss='binary_crossentropy',\n",
    "              optimizer=RMSprop(lr=0.001),\n",
    "              metrics=['accuracy'])"
   ]
  },
  {
   "cell_type": "code",
   "execution_count": 93,
   "id": "38129a4d",
   "metadata": {},
   "outputs": [
    {
     "name": "stderr",
     "output_type": "stream",
     "text": [
      "C:\\Users\\user\\AppData\\Local\\Temp\\ipykernel_16168\\3977858232.py:1: UserWarning: `Model.fit_generator` is deprecated and will be removed in a future version. Please use `Model.fit`, which supports generators.\n",
      "  history_dropout = model_dropout.fit_generator(\n"
     ]
    },
    {
     "name": "stdout",
     "output_type": "stream",
     "text": [
      "Epoch 1/15\n",
      "33/33 [==============================] - 94s 3s/step - loss: 0.7147 - accuracy: 0.5326 - val_loss: 0.6778 - val_accuracy: 0.5625\n",
      "Epoch 2/15\n",
      "33/33 [==============================] - 98s 3s/step - loss: 0.6564 - accuracy: 0.6475 - val_loss: 0.6289 - val_accuracy: 0.6328\n",
      "Epoch 3/15\n",
      "33/33 [==============================] - 105s 3s/step - loss: 0.4991 - accuracy: 0.7595 - val_loss: 1.3373 - val_accuracy: 0.5312\n",
      "Epoch 4/15\n",
      "33/33 [==============================] - 96s 3s/step - loss: 0.4012 - accuracy: 0.8374 - val_loss: 1.1818 - val_accuracy: 0.7188\n",
      "Epoch 5/15\n",
      "33/33 [==============================] - 100s 3s/step - loss: 0.3270 - accuracy: 0.8685 - val_loss: 0.7003 - val_accuracy: 0.8203\n",
      "Epoch 6/15\n",
      "33/33 [==============================] - 97s 3s/step - loss: 0.3008 - accuracy: 0.8793 - val_loss: 3.8032 - val_accuracy: 0.6211\n",
      "Epoch 7/15\n",
      "33/33 [==============================] - 104s 3s/step - loss: 0.2683 - accuracy: 0.9007 - val_loss: 0.8750 - val_accuracy: 0.7812\n",
      "Epoch 8/15\n",
      "33/33 [==============================] - 103s 3s/step - loss: 0.2546 - accuracy: 0.8968 - val_loss: 0.7590 - val_accuracy: 0.7734\n",
      "Epoch 9/15\n",
      "33/33 [==============================] - 96s 3s/step - loss: 0.2660 - accuracy: 0.9017 - val_loss: 1.6212 - val_accuracy: 0.7070\n",
      "Epoch 10/15\n",
      "33/33 [==============================] - 98s 3s/step - loss: 0.1969 - accuracy: 0.9270 - val_loss: 1.6644 - val_accuracy: 0.7109\n",
      "Epoch 11/15\n",
      "33/33 [==============================] - 98s 3s/step - loss: 0.2240 - accuracy: 0.9172 - val_loss: 0.7285 - val_accuracy: 0.8086\n",
      "Epoch 12/15\n",
      "33/33 [==============================] - 97s 3s/step - loss: 0.1568 - accuracy: 0.9503 - val_loss: 0.4475 - val_accuracy: 0.8594\n",
      "Epoch 13/15\n",
      "33/33 [==============================] - 97s 3s/step - loss: 0.2071 - accuracy: 0.9163 - val_loss: 2.4794 - val_accuracy: 0.7070\n",
      "Epoch 14/15\n",
      "33/33 [==============================] - 102s 3s/step - loss: 0.1344 - accuracy: 0.9562 - val_loss: 2.4303 - val_accuracy: 0.7383\n",
      "Epoch 15/15\n",
      "33/33 [==============================] - 98s 3s/step - loss: 0.1527 - accuracy: 0.9387 - val_loss: 0.5347 - val_accuracy: 0.8203\n"
     ]
    }
   ],
   "source": [
    "history_dropout = model_dropout.fit_generator(\n",
    "    train_generator,\n",
    "    epochs=15,\n",
    "    validation_data=validation_generator)"
   ]
  },
  {
   "cell_type": "code",
   "execution_count": 96,
   "id": "a6ba3a89",
   "metadata": {},
   "outputs": [
    {
     "data": {
      "text/plain": [
       "<matplotlib.legend.Legend at 0x24601cc7d00>"
      ]
     },
     "execution_count": 96,
     "metadata": {},
     "output_type": "execute_result"
    },
    {
     "data": {
      "image/png": "[encoded data removed]",
      "text/plain": [
       "<Figure size 1080x576 with 2 Axes>"
      ]
     },
     "metadata": {
      "needs_background": "light"
     },
     "output_type": "display_data"
    }
   ],
   "source": [
    "plt.figure(figsize = (15 , 8))\n",
    "plt.subplot(1, 2, 1)\n",
    "plt.plot(history_dropout.history['accuracy'])\n",
    "plt.title(\"Accuracy each epoch\")\n",
    "plt.xlabel(\"Epochs\")\n",
    "plt.ylabel(\"Accuracy\")\n",
    "plt.legend([\"Train\"], loc=\"upper left\")\n",
    "\n",
    "plt.subplot(2, 2, 2)\n",
    "plt.plot(history_dropout.history['loss'])\n",
    "plt.title(\"Loss each epoch\")\n",
    "plt.xlabel(\"Epochs\")\n",
    "plt.ylabel(\"Loss\")\n",
    "plt.legend([\"Train\"], loc=\"upper left\")"
   ]
  },
  {
   "cell_type": "code",
   "execution_count": 97,
   "id": "b2740adf",
   "metadata": {},
   "outputs": [],
   "source": [
    "model_dropout.save('tf.model\\\\post_dropout\\\\my_model_2.h5')"
   ]
  },
  {
   "cell_type": "code",
   "execution_count": 100,
   "id": "cf4e29da",
   "metadata": {},
   "outputs": [
    {
     "data": {
      "text/plain": [
       "<matplotlib.legend.Legend at 0x246052c7940>"
      ]
     },
     "execution_count": 100,
     "metadata": {},
     "output_type": "execute_result"
    },
    {
     "data": {
      "image/png": "[encoded data removed]",
      "text/plain": [
       "<Figure size 1080x576 with 2 Axes>"
      ]
     },
     "metadata": {
      "needs_background": "light"
     },
     "output_type": "display_data"
    }
   ],
   "source": [
    "plt.figure(figsize = (15 , 8))\n",
    "plt.subplot(1, 2, 1)\n",
    "plt.plot(history.history['accuracy'])\n",
    "plt.plot(history_dropout.history['accuracy'])\n",
    "plt.title(\"Train accuracy each epoch\")\n",
    "plt.xlabel(\"Epochs\")\n",
    "plt.ylabel(\"Accuracy\")\n",
    "plt.legend([\"Model\", \"Dropout Model\"], loc=\"upper left\")\n",
    "\n",
    "plt.subplot(2, 2, 2)\n",
    "plt.plot(history.history['loss'])\n",
    "plt.plot(history_dropout.history['loss'])\n",
    "plt.title(\"Train loss each epoch\")\n",
    "plt.xlabel(\"Epochs\")\n",
    "plt.ylabel(\"Loss\")\n",
    "plt.legend([\"Model\", \"Dropout Model\"], loc=\"upper left\")"
   ]
  },
  {
   "cell_type": "code",
   "execution_count": 99,
   "id": "7bc7ea18",
   "metadata": {},
   "outputs": [
    {
     "name": "stdout",
     "output_type": "stream",
     "text": [
      "1/1 [==============================] - 0s 234ms/step\n",
      "1/1 [==============================] - 0s 56ms/step\n",
      "1/1 [==============================] - 0s 41ms/step\n",
      "1/1 [==============================] - 0s 47ms/step\n",
      "1/1 [==============================] - 0s 49ms/step\n",
      "1/1 [==============================] - 0s 135ms/step\n",
      "1/1 [==============================] - 0s 52ms/step\n",
      "1/1 [==============================] - 0s 48ms/step\n",
      "1/1 [==============================] - 0s 49ms/step\n",
      "1/1 [==============================] - 0s 81ms/step\n",
      "1/1 [==============================] - 0s 71ms/step\n",
      "1/1 [==============================] - 0s 77ms/step\n",
      "1/1 [==============================] - 0s 42ms/step\n",
      "1/1 [==============================] - 0s 50ms/step\n",
      "1/1 [==============================] - 0s 53ms/step\n",
      "1/1 [==============================] - 0s 54ms/step\n",
      "1/1 [==============================] - 0s 46ms/step\n",
      "1/1 [==============================] - 0s 39ms/step\n",
      "1/1 [==============================] - 0s 41ms/step\n",
      "1/1 [==============================] - 0s 37ms/step\n",
      "correct : 8 out of 20\n"
     ]
    }
   ],
   "source": [
    "predict_n(model_dropout)"
   ]
  },
  {
   "cell_type": "markdown",
   "id": "fbbd5075",
   "metadata": {},
   "source": [
    "## Test section"
   ]
  },
  {
   "cell_type": "markdown",
   "id": "5d6983e4",
   "metadata": {},
   "source": [
    "#### Testing properties"
   ]
  },
  {
   "cell_type": "code",
   "execution_count": 72,
   "id": "7eca85d0",
   "metadata": {},
   "outputs": [],
   "source": [
    "def predict_plot(path):\n",
    "    img = utils.load_img(path, target_size=(300, 300))\n",
    "    x = utils.img_to_array(img)\n",
    "    x = np.expand_dims(x, axis=0)\n",
    "    \n",
    "    image_tensor = np.vstack([x])\n",
    "    classes = model.predict(image_tensor)\n",
    "    \n",
    "    plt.imshow(img)\n",
    "    \n",
    "    if(classes[0] > 0.5):\n",
    "        print(\"\\nPredicted as human\")\n",
    "    else:\n",
    "        print(\"\\nPredicted as horse\")"
   ]
  },
  {
   "cell_type": "code",
   "execution_count": 87,
   "id": "29665a2b",
   "metadata": {},
   "outputs": [],
   "source": [
    "def predict(path, model):\n",
    "    img = utils.load_img(path, target_size=(300, 300))\n",
    "    x = utils.img_to_array(img)\n",
    "    x = np.expand_dims(x, axis=0)\n",
    "    \n",
    "    image_tensor = np.vstack([x])\n",
    "    classes = model.predict(image_tensor)\n",
    "    \n",
    "    \n",
    "    if(classes[0] > 0.5):\n",
    "        return 'human'\n",
    "    else:\n",
    "        return 'horse'"
   ]
  },
  {
   "cell_type": "code",
   "execution_count": 88,
   "id": "9a24fec8",
   "metadata": {},
   "outputs": [],
   "source": [
    "relative_path = 'sample_images\\\\'\n",
    "test = {\n",
    "    relative_path + 'female-human.jpg' : 'human',\n",
    "    relative_path + 'female-human-2.jpg' : 'human',\n",
    "    relative_path + 'female-human-3.jpg' : 'human',\n",
    "    relative_path + 'female-human-4.jpg' : 'human',\n",
    "    relative_path + 'female-human-5.jpg' : 'human',\n",
    "    relative_path + 'female-human-5.jpg' : 'human',\n",
    "    relative_path + 'male-human.jpg' : 'human',\n",
    "    relative_path + 'male-human-2.jpg' : 'human',\n",
    "    relative_path + 'male-human-3.jpg' : 'human',\n",
    "    relative_path + 'male-human-4.jpg' : 'human',\n",
    "    relative_path + 'male-human-5.jpg' : 'human',\n",
    "    relative_path + 'horse.jpg' : 'horse',\n",
    "    relative_path + 'horse-2.jpg' : 'horse',\n",
    "    relative_path + 'horse-3.jpg' : 'horse',\n",
    "    relative_path + 'horse-4.jpg' : 'horse',\n",
    "    relative_path + 'horse-5.jpg' : 'horse',\n",
    "    relative_path + 'horse-6.jpg' : 'horse',\n",
    "    relative_path + 'horse-7.jpg' : 'horse',\n",
    "    relative_path + 'horse-8.jpg' : 'horse',\n",
    "    relative_path + 'horse-9.jpg' : 'horse',\n",
    "    relative_path + 'horse-10.jpg' : 'horse',\n",
    "}"
   ]
  },
  {
   "cell_type": "code",
   "execution_count": 98,
   "id": "f2a98405",
   "metadata": {},
   "outputs": [],
   "source": [
    "def predict_n(model):\n",
    "    correct = 0\n",
    "    for key, val in test.items():\n",
    "        if val == predict(key, model):\n",
    "            correct += 1\n",
    "    print(f\"correct : {correct} out of {len(test.keys())}\")"
   ]
  },
  {
   "cell_type": "code",
   "execution_count": null,
   "id": "4d41d194",
   "metadata": {},
   "outputs": [],
   "source": []
  }
 ],
 "metadata": {
  "kernelspec": {
   "display_name": "Python 3 (ipykernel)",
   "language": "python",
   "name": "python3"
  },
  "language_info": {
   "codemirror_mode": {
    "name": "ipython",
    "version": 3
   },
   "file_extension": ".py",
   "mimetype": "text/x-python",
   "name": "python",
   "nbconvert_exporter": "python",
   "pygments_lexer": "ipython3",
   "version": "3.10.4"
  }
 },
 "nbformat": 4,
 "nbformat_minor": 5
}
